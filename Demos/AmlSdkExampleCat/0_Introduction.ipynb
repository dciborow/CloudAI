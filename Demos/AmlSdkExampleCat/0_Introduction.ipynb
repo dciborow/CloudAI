{
 "cells": [
  {
   "cell_type": "markdown",
   "metadata": {},
   "source": [
    "## Introduction ##\n",
    "\n",
    "Machine Learning and Artificial Intelligence have been very hot topics for quite some time and it is only taking up more and more conversation time in many industries. There are differences between the two, though sometimes they are intertwined in the media. This lab will walk you through a Machine Learning Example.\n",
    "\n",
    "The concepts aren't quite rocket science, but becoming familiar with the topics and terminology can make the transition easier. \n"
   ]
  },
  {
   "cell_type": "markdown",
   "metadata": {},
   "source": [
    "## What is Machine Learning ##\n",
    "\n",
    "If you ask 10 people this question you might get 10 answers, however how does Microsoft think of machine learning?\n",
    "\n",
    ">Computer systems that become smarter with experience.\n",
    ">\n",
    ">“Experience” = past data + human input\n",
    "\n",
    "In this case, the human input is generally a pairing of a data scientist and a subject matter expert who can make sense of the data. "
   ]
  },
  {
   "cell_type": "markdown",
   "metadata": {},
   "source": [
    "## A Sharp Question ##\n",
    "\n",
    "To make use of machine learning you need two core things. A sharp question and data to support finding an answer to that sharp data. \n",
    "\n",
    "So, what is a sharp question?\n",
    "\n",
    "A sharp question is one that can be answered with a name or a number. For example\n",
    "\n",
    ">When will the next delivery truck in the fleet break down? \n",
    "\n",
    "An example of a question that won't be useful\n",
    "\n",
    ">How can we increase our profits?\n",
    "\n",
    "The sharp question will guide the next actions by all involved in the project."
   ]
  },
  {
   "cell_type": "markdown",
   "metadata": {},
   "source": [
    "## Data ##\n",
    "\n",
    "Data is one of the most important parts of the equation once a question has been determined. Some basic terminology used are:\n",
    "\n",
    "\n",
    "|  |   |\n",
    "|------|---------|\n",
    "|<b>Training Data</b>| A set of samples. This can be thought of as a table with rows and columns.|\n",
    "|<b>Sample</b>| A single observation.|\n",
    "|<b>Feature</b>| Individual columns in a sample.|\n",
    "|<b>Label</b>| A historical result attached to a sample.|\n",
    "\n",
    "So all training data is made up of samples which are composed of features and many times labels. However, labels are not required. \n",
    "\n",
    "To have good data it must meet these four criteria (which are really common sense):\n",
    "\n",
    "|  |   |\n",
    "|------|---------|\n",
    "|<b>Relevant</b>| The data is related to the problem we are trying to solve. Using a feature such as time of day to determine breaking points would not be relevant.|\n",
    "|<b>Connected</b>| There are not many samples in the training data that have empty columns. Connected simply means data exists in the sample!|\n",
    "|<b>Accurate</b>| The data provided to train on is factually accurate. This applies to both features and labels, if they exist.|\n",
    "|<b>Enough of it</b>| A good training set has many samples in it. With too few samples you run the risk of overfitting a model. That is, it's great while testing it with training data but does horribly when presented with new data.|\n",
    "\n"
   ]
  },
  {
   "cell_type": "markdown",
   "metadata": {},
   "source": [
    "## Learning Types ##\n",
    "\n",
    "At this point, it makes sense to discuss the different types of learning. There are really only two basic learning types, supervised and un-supervised and it can be easily determined which type of training you are doing by looking at the training data. \n",
    "\n",
    "|  |   |\n",
    "|------|---------|\n",
    "|<b>Supervised Learning</b>| The training data contains BOTH features and labels. |\n",
    "|<b>Unsupervised Learning</b>| The training data contains ONLY features.|"
   ]
  },
  {
   "cell_type": "markdown",
   "metadata": {},
   "source": [
    "## Problem Solving ##\n",
    "\n",
    "There are several types of problems that can be solved with machine learning.\n",
    "\n",
    "|     |      |\n",
    "|-----|------|\n",
    "|<b>Clustering</b>| Can you group it?|\n",
    "|<b>Classification</b>| Can you categorize it?|\n",
    "|<b>Prediction</b>| How much/how many? |\n",
    "|<b>Anomaly detection</b>| Is it weird?|\n",
    "\n",
    "You might have been asking, what can I do with a training set that doesn't have labels? The answer is anomaly detection. In case like that, you start with an anomaly detection model and as more data (and labels) become available over time you can change the model to any of the other types!"
   ]
  },
  {
   "cell_type": "code",
   "execution_count": null,
   "metadata": {},
   "outputs": [],
   "source": []
  }
 ],
 "metadata": {
  "kernelspec": {
   "display_name": "Python 3 Spark - local",
   "language": "python",
   "name": "pyspark3"
  },
  "language_info": {
   "codemirror_mode": {
    "name": "ipython",
    "version": 3
   },
   "file_extension": ".py",
   "mimetype": "text/x-python",
   "name": "python",
   "nbconvert_exporter": "python",
   "pygments_lexer": "ipython3",
   "version": "3.5.4"
  }
 },
 "nbformat": 4,
 "nbformat_minor": 2
}
