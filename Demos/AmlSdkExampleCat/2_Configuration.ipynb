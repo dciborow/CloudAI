{
 "cells": [
  {
   "cell_type": "markdown",
   "metadata": {},
   "source": [
    "## Configuration ##\n",
    "\n",
    "><b>Pre-requisites</b>\n",
    ">\n",
    "> Azure ML SDK has been installed.\n",
    ">\n",
    "> You have run <b>jupyter notebook</b> from a command line that was based in your project directory.\n",
    ">\n",
    "> You have successfully executed <b>az login</b> from said command line.\n",
    "\n",
    "This notebook ensures your subscription is ready to go and sets up a resource group and creates a local workspace for you. "
   ]
  },
  {
   "cell_type": "markdown",
   "metadata": {},
   "source": [
    "## Imports and Variables ##\n",
    "\n",
    "<b>NOTE</b> Ensure you use lowercase characters in the below variables. \n",
    "\n",
    "<b>NOTE</b> Use <b>az login</b> to get your subscription id! However, for today you need only change the resource_group, workspace_name and history_name as the subscription ID provided is valid for this lab."
   ]
  },
  {
   "cell_type": "code",
   "execution_count": null,
   "metadata": {},
   "outputs": [],
   "source": [
    "# Configuration Data Points\n",
    "subscription_id=\"1abb567b-bfef-4fac-9574-f55db5b506b4\"\n",
    "resource_group=\"dangcattest\"\n",
    "workspace_name=\"amlworkspace\"\n",
    "history_name=\"dangamlhistory\"\n",
    "workspace_region=\"eastus2\""
   ]
  },
  {
   "cell_type": "markdown",
   "metadata": {},
   "source": [
    "## Ensure SDK Is Installed ##\n",
    "If this is NOT installed follow the instructions at this site:\n",
    "    \n",
    "    https://github.com/Azure/ViennaDocs/tree/master/PrivatePreview\n",
    "        "
   ]
  },
  {
   "cell_type": "code",
   "execution_count": null,
   "metadata": {},
   "outputs": [],
   "source": [
    "# Check core SDK version number for debugging purposes\n",
    "import azureml.core\n",
    "\n",
    "print(\"SDK Version:\", azureml.core.VERSION)"
   ]
  },
  {
   "cell_type": "markdown",
   "metadata": {},
   "source": [
    "## Microsoft.MachineLearningServices Provider ##\n",
    "Ensure this provider is enabled. Run this cell and if registrationState is NOT Registered, run the following cell to register it."
   ]
  },
  {
   "cell_type": "code",
   "execution_count": null,
   "metadata": {},
   "outputs": [],
   "source": [
    "!az provider show -n Microsoft.MachineLearningServices --query registrationState"
   ]
  },
  {
   "cell_type": "code",
   "execution_count": null,
   "metadata": {},
   "outputs": [],
   "source": [
    "!az provider register -n Microsoft.MachineLearningServices"
   ]
  },
  {
   "cell_type": "markdown",
   "metadata": {},
   "source": [
    "If you have to register you can monitor the progress here."
   ]
  },
  {
   "cell_type": "code",
   "execution_count": null,
   "metadata": {},
   "outputs": [],
   "source": [
    "!az provider show -n Microsoft.MachineLearningServices --query registrationState"
   ]
  },
  {
   "cell_type": "markdown",
   "metadata": {},
   "source": [
    "## Create the resource group ##\n",
    "Azure resource groups need a unique name so ensure you create one.\n",
    "\n",
    "For many of the calls you must ensure you have run the az login methond after you are running in the virtual environment. \n",
    "\n",
    "Note that you will need to paste in YOUR resource group name in the command below."
   ]
  },
  {
   "cell_type": "code",
   "execution_count": null,
   "metadata": {},
   "outputs": [],
   "source": [
    "!az group create -n {resource_group} -l eastus2"
   ]
  },
  {
   "cell_type": "markdown",
   "metadata": {},
   "source": [
    "## Creating a workspace\n",
    "If you already have access to an AML Workspace you want to use, you can skip this cell.  Otherwise, this cell will create an AML workspace for you in a subscription provided you have the correct permissions.\n",
    "\n",
    "This will fail when:\n",
    "1. The workspace already exists\n",
    "2. You do not have permission to create a workspace in the resource group\n",
    "3. You are not a subscription owner or contributor and no Azure ML workspaces have ever been created in this subscription\n",
    "\n",
    "If workspace creation fails for any reason other than already existing, please work with your IT admin to provide you with the appropriate permissions or to provision the required resources."
   ]
  },
  {
   "cell_type": "code",
   "execution_count": null,
   "metadata": {},
   "outputs": [],
   "source": [
    "# import the Workspace class and check the azureml SDK version\n",
    "from azureml.core import Workspace\n",
    "\n",
    "ws = Workspace.create(name = workspace_name,\n",
    "                      subscription_id = subscription_id,\n",
    "                      resource_group = resource_group, \n",
    "                      location = workspace_region)\n",
    "ws.get_details()"
   ]
  },
  {
   "cell_type": "markdown",
   "metadata": {},
   "source": [
    "## Configuring your local environment\n",
    "You can validate that you have access to the specified workspace and write a configuration file to the default configuration location, `./aml_config/config.json`."
   ]
  },
  {
   "cell_type": "code",
   "execution_count": null,
   "metadata": {},
   "outputs": [],
   "source": [
    "from azureml.core import Workspace\n",
    "\n",
    "ws = Workspace(workspace_name = workspace_name,\n",
    "               subscription_id = subscription_id,\n",
    "               resource_group = resource_group)\n",
    "\n",
    "# persist the subscription id, resource group name, and workspace name in aml_config/config.json.\n",
    "ws.write_config()"
   ]
  },
  {
   "cell_type": "markdown",
   "metadata": {},
   "source": [
    "You can then load the workspace from this config file from any notebook in the current directory."
   ]
  },
  {
   "cell_type": "code",
   "execution_count": null,
   "metadata": {},
   "outputs": [],
   "source": [
    "# load workspace configuratio from ./aml_config/config.json file.ß\n",
    "my_workspace = Workspace.from_config()\n",
    "my_workspace.get_details()"
   ]
  },
  {
   "cell_type": "markdown",
   "metadata": {},
   "source": [
    "This section has ensured you have the SDK installed and a workspace created to use with the service. Granted we started in a local directory already so you don't need to set up any particular paths for projects on this machine."
   ]
  },
  {
   "cell_type": "code",
   "execution_count": null,
   "metadata": {},
   "outputs": [],
   "source": []
  }
 ],
 "metadata": {
  "kernelspec": {
   "display_name": "Python [conda env:amlenv]",
   "language": "python",
   "name": "conda-env-amlenv-py"
  },
  "language_info": {
   "codemirror_mode": {
    "name": "ipython",
    "version": 3
   },
   "file_extension": ".py",
   "mimetype": "text/x-python",
   "name": "python",
   "nbconvert_exporter": "python",
   "pygments_lexer": "ipython3",
   "version": "3.6.5"
  }
 },
 "nbformat": 4,
 "nbformat_minor": 2
}
