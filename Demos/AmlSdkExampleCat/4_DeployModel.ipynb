{
 "cells": [
  {
   "cell_type": "markdown",
   "metadata": {},
   "source": [
    "## Deploy Model to AKS Cluster ##\n",
    "\n",
    "><b>Pre-requisites</b>\n",
    ">\n",
    "> Azure ML SDK has been installed.\n",
    ">\n",
    "> You have run <b>jupyter notebook</b> from a command line that was based in your project directory.\n",
    ">\n",
    "> You have successfully executed <b>az login</b> from said command line.\n",
    "\n",
    "<b>NOTE</b> Deploying a cluster and publishing a service can take upwards of 30 minutes. Further, the subscription you are working with for this lab may not be suitable for each of you to create an AKS cluster due to core limitations. Work on the cells up to but not including Provision the AKS cluster\n",
    "\n",
    "This notebook registers the model with the AML service, builds a docker container which is stored in an Azure Container Registry, deploys an AKS cluster, and finally tests the service in place. \n"
   ]
  },
  {
   "cell_type": "markdown",
   "metadata": {},
   "source": [
    "## Imports and Variables ##"
   ]
  },
  {
   "cell_type": "code",
   "execution_count": null,
   "metadata": {},
   "outputs": [],
   "source": [
    "from azureml.core import Workspace\n",
    "from azureml.core.compute import AksCompute, ComputeTarget\n",
    "from azureml.core.webservice import Webservice, AksWebservice\n",
    "from azureml.core.image import Image\n",
    "from azureml.core.model import Model\n",
    "from azureml.core.workspace import Workspace\n",
    "\n",
    "import azureml.core\n",
    "print(azureml.core.VERSION)\n",
    "\n",
    "ML_MODEL_NAME = \"factorymodel.pkl\"\n",
    "LOCAL_SYSTEM_MODEL_FILE = \"./{}\".format(ML_MODEL_NAME)\n",
    "\n",
    "MODEL_TAGS = [\"factory\", \"predictivemaintenance\"]\n",
    "MODEL_DESCRIPTION = \"Predict factory floor failures.\"\n",
    "\n",
    "print(LOCAL_SYSTEM_MODEL_FILE)"
   ]
  },
  {
   "cell_type": "markdown",
   "metadata": {},
   "source": [
    "# Get workspace\n",
    "Load existing workspace from the config file info."
   ]
  },
  {
   "cell_type": "code",
   "execution_count": null,
   "metadata": {},
   "outputs": [],
   "source": [
    "ws = Workspace.from_config()\n",
    "print(ws.name, ws.resource_group, ws.location, ws.subscription_id, sep = '\\n')"
   ]
  },
  {
   "cell_type": "markdown",
   "metadata": {},
   "source": [
    "## Register the model ##\n",
    "\n",
    "Register an existing trained model, add descirption and tags."
   ]
  },
  {
   "cell_type": "code",
   "execution_count": null,
   "metadata": {},
   "outputs": [],
   "source": [
    "%%time\n",
    "\n",
    "print(\"Register file {} with name {}\".format(LOCAL_SYSTEM_MODEL_FILE,ML_MODEL_NAME))\n",
    "model = Model.register(model_path = LOCAL_SYSTEM_MODEL_FILE, # this points to a local file\n",
    "                       model_name = ML_MODEL_NAME, # this is the name the model is registered as\n",
    "                       tags = MODEL_TAGS,\n",
    "                       description = MODEL_DESCRIPTION,\n",
    "                       workspace = ws)\n",
    "\n",
    "print(model.name, model.description, model.version)"
   ]
  },
  {
   "cell_type": "markdown",
   "metadata": {},
   "source": [
    "# Create an image\n",
    "Create an image (docker container) using the registered model the script that will load and run the model."
   ]
  },
  {
   "cell_type": "code",
   "execution_count": 14,
   "metadata": {},
   "outputs": [
    {
     "name": "stdout",
     "output_type": "stream",
     "text": [
      "import os\n",
      "import pickle\n",
      "import json\n",
      "import pandas as pd\n",
      "from sklearn.externals import joblib\n",
      "from azureml.core.model import Model\n",
      "\n",
      "# Prepare the web service definition by authoring\n",
      "# init() and run() functions. Test the functions\n",
      "# before deploying the web service.\n",
      "def init():\n",
      "    # load the model file\n",
      "    global model\n",
      "    model_path = Model.get_model_path(model_name = 'factorymodel.pkl')\n",
      "    print(\"Model Path Is: {}\".format(model_path))\n",
      "    model = joblib.load(model_path)\n",
      "    print(model)\n",
      "\n",
      "\n",
      "def run(input_df):\n",
      "    try:\n",
      "        # data = json.loads(raw_data)['data']\n",
      "        # data = numpy.array(data)\n",
      "        # result = model.predict(data)\n",
      "        # return json.dumps({\"result\": result.tolist()})\n",
      "        data = json.loads(input_df)['input_df']\n",
      "        data = pd.DataFrame(data)\n",
      "        pred = model.predict(data)\n",
      "        return json.dumps(str(pred))\n",
      "    except Exception as e:\n",
      "        result = str(e)\n",
      "        return json.dumps({\"INTERNAL error\": result})\n",
      "\n",
      "def main():\n",
      "    init()\n",
      "    \n",
      "    test_sample = json.dumps({'input_df':[{'id':1.0,'volt':241.0,'rotate':120.0,'temp':189.0,'time':3.0}]})\n",
      "    result = run(test_sample)\n",
      "    print(\"result {}\".format(result))\n",
      "\n",
      "\n",
      "if __name__ == \"__main__\":\n",
      "    main()\n"
     ]
    }
   ],
   "source": [
    "!more score.py"
   ]
  },
  {
   "cell_type": "code",
   "execution_count": null,
   "metadata": {},
   "outputs": [],
   "source": [
    "!more amlenv.yml"
   ]
  },
  {
   "cell_type": "markdown",
   "metadata": {},
   "source": [
    "This next step creates the actual container in the ACR for this project."
   ]
  },
  {
   "cell_type": "code",
   "execution_count": null,
   "metadata": {},
   "outputs": [],
   "source": [
    "image = Image.create(name = \"factoryimage22\",\n",
    "                     models = [model],\n",
    "                     runtime = \"python\",\n",
    "                     execution_script = \"score.py\",\n",
    "                     conda_file = \"amlenv.yml\",\n",
    "                     tags = MODEL_TAGS,\n",
    "                     description = MODEL_DESCRIPTION,\n",
    "                     workspace = ws)"
   ]
  },
  {
   "cell_type": "code",
   "execution_count": null,
   "metadata": {},
   "outputs": [],
   "source": [
    "%%time\n",
    "image.wait_for_creation(show_output = True)"
   ]
  },
  {
   "cell_type": "markdown",
   "metadata": {},
   "source": [
    "# Provision the AKS Cluster\n",
    "\n",
    "><b>NOTE</b> These steps take a LONG time and should not be run during this lab. The section is here to complete the >flow from creation to operationalizing a model.\n",
    "\n",
    "This is a one time setup. You can reuse this cluster for multiple deployments after it has been created. If you delete the cluster or the resource group that contains it, then you would have to recreate it."
   ]
  },
  {
   "cell_type": "markdown",
   "metadata": {},
   "source": [
    "## Connect existing cluster ##\n",
    "\n",
    "Use this cell if you already have your cluster up and running, otherwise skip it and go to the next cell to create one."
   ]
  },
  {
   "cell_type": "code",
   "execution_count": null,
   "metadata": {
    "scrolled": true
   },
   "outputs": [],
   "source": [
    "%%time\n",
    "create_name = 'aml-aks-d' \n",
    "resource_id ='/subscriptions/1abb567b-bfef-4fac-9574-f55db5b506b4/resourcegroups/dangcattest/providers/Microsoft.ContainerService/managedClusters/aml-aks-d1c78178547f1683'\n",
    "\n",
    "print(ws.name, create_name, resource_id)\n",
    "\n",
    "# Create the cluster\n",
    "aks_target = AksCompute.attach(workspace=ws, name=create_name, resource_id=resource_id)\n",
    "# Wait for the operation to complete\n",
    "aks_target.wait_for_provisioning(True)\n"
   ]
  },
  {
   "cell_type": "markdown",
   "metadata": {},
   "source": [
    "## Create Cluster ##\n",
    "\n",
    "Use this cell to create a new AKS cluster, otherwise if you already have one, use the cell above to connect to an existing cluster."
   ]
  },
  {
   "cell_type": "code",
   "execution_count": null,
   "metadata": {},
   "outputs": [],
   "source": [
    "%%time\n",
    "\n",
    "# Use the default configuration (can also provide parameters to customize)\n",
    "prov_config = AksCompute.provisioning_configuration()\n",
    "\n",
    "aks_name = 'aml-aks-d' \n",
    "# Create the cluster\n",
    "aks_target = ComputeTarget.create(workspace = ws, \n",
    "                                  name = aks_name, \n",
    "                                  provisioning_configuration = prov_config)"
   ]
  },
  {
   "cell_type": "code",
   "execution_count": null,
   "metadata": {},
   "outputs": [],
   "source": [
    "%%time\n",
    "aks_target.wait_for_provisioning(show_output = True)\n",
    "print(aks_target.provisioning_state)\n",
    "print(aks_target.provisioning_errors)"
   ]
  },
  {
   "cell_type": "markdown",
   "metadata": {},
   "source": [
    "## Deploy Web Service to AKS Cluster ##"
   ]
  },
  {
   "cell_type": "code",
   "execution_count": null,
   "metadata": {},
   "outputs": [],
   "source": [
    "#Set the web service configuration (using default here)\n",
    "aks_config = AksWebservice.deploy_configuration()"
   ]
  },
  {
   "cell_type": "code",
   "execution_count": null,
   "metadata": {},
   "outputs": [],
   "source": [
    "%%time\n",
    "aks_service_name ='aks-service-6'\n",
    "\n",
    "aks_service = Webservice.deploy_from_image(workspace = ws, \n",
    "                                           name = aks_service_name,\n",
    "                                           image = image,\n",
    "                                           deployment_config = aks_config,\n",
    "                                           deployment_target = aks_target)\n",
    "aks_service.wait_for_deployment(show_output = True)\n",
    "print(aks_service.state)\n",
    "print(aks_service.error)\n",
    "print(aks_service.get_logs() )"
   ]
  },
  {
   "cell_type": "markdown",
   "metadata": {},
   "source": [
    "## Test the service ##"
   ]
  },
  {
   "cell_type": "code",
   "execution_count": null,
   "metadata": {},
   "outputs": [],
   "source": [
    "%%time\n",
    "import json\n",
    "\n",
    "\n",
    "test_sample = json.dumps({'input_df':[{'id':1.0,'volt':241.0,'rotate':120.0,'temp':189.0,'time':3.0}]})\n",
    "\n",
    "prediction = aks_service.run(input_data = test_sample)\n",
    "print('------PREDICTION-----')\n",
    "print(prediction)\n",
    "print('------STATE-----')\n",
    "print(aks_service.state)\n",
    "print('------ERROR-----')\n",
    "print(aks_service.error)\n",
    "print('------CONNECTION-----')\n",
    "#print(aks_service.get_logs() )\n",
    "print(aks_service.scoring_uri)\n",
    "print(aks_service.get_keys())"
   ]
  },
  {
   "cell_type": "markdown",
   "metadata": {},
   "source": [
    "## Clean up ##\n",
    "Delete the service, image and model."
   ]
  },
  {
   "cell_type": "code",
   "execution_count": null,
   "metadata": {},
   "outputs": [],
   "source": [
    "%%time\n",
    "aks_service.delete()\n",
    "image.delete()\n",
    "model.delete()"
   ]
  },
  {
   "cell_type": "code",
   "execution_count": null,
   "metadata": {},
   "outputs": [],
   "source": []
  }
 ],
 "metadata": {
  "kernelspec": {
   "display_name": "Python [conda env:amlenv]",
   "language": "python",
   "name": "conda-env-amlenv-py"
  },
  "language_info": {
   "codemirror_mode": {
    "name": "ipython",
    "version": 3
   },
   "file_extension": ".py",
   "mimetype": "text/x-python",
   "name": "python",
   "nbconvert_exporter": "python",
   "pygments_lexer": "ipython3",
   "version": "3.6.5"
  }
 },
 "nbformat": 4,
 "nbformat_minor": 2
}
