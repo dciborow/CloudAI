{
 "cells": [
  {
   "cell_type": "markdown",
   "metadata": {},
   "source": [
    "## Deploy Model to AKS Cluster ##\n",
    "\n",
    "><b>Pre-requisites</b>\n",
    ">\n",
    "> Azure ML SDK has been installed.\n",
    ">\n",
    "> You have run <b>jupyter notebook</b> from a command line that was based in your project directory.\n",
    ">\n",
    "> You have successfully executed <b>az login</b> from said command line.\n",
    "\n",
    "<b>NOTE</b> Deploying a cluster and publishing a service can take upwards of 30 minutes. Further, the subscription you are working with for this lab may not be suitable for each of you to create an AKS cluster due to core limitations. Work on the cells up to but not including Provision the AKS cluster\n",
    "\n",
    "This notebook registers the model with the AML service, builds a docker container which is stored in an Azure Container Registry, deploys an AKS cluster, and finally tests the service in place. \n"
   ]
  },
  {
   "cell_type": "markdown",
   "metadata": {},
   "source": [
    "## Imports and Variables ##"
   ]
  },
  {
   "cell_type": "code",
   "execution_count": null,
   "metadata": {},
   "outputs": [],
   "source": [
    "from azureml.core import Workspace\n",
    "from azureml.core.compute import AksCompute, ComputeTarget\n",
    "from azureml.core.webservice import Webservice, AksWebservice\n",
    "from azureml.core.image import Image\n",
    "from azureml.core.model import Model\n",
    "from azureml.core.workspace import Workspace\n",
    "\n",
    "#from azure.storage.blob import BlockBlobService\n",
    "#from azure.storage.blob import ContentSettings\n",
    "\n",
    "import azureml.core\n",
    "print(azureml.core.VERSION)\n",
    "\n",
    "#AZURE_STORAGE_ACCOUNT_NAME = \"catjulydemodata\"\n",
    "#AZURE_STORAGE_ACCOUNT_KEY = \"94nA2VT9YR8cWuT0eqUMM8uWJiRgTUpkGwONKKD/WsZIPC8UDH6PBQFSgTTh01qbY9WqCF0HoWvOnb1wRmIM6Q==\"\n",
    "#AZURE_STORAGE_MODEL_CONTAINER_NAME = \"factorymodel\"\n",
    "#AZURE_STORAGE_MODEL_BLOB_NAME = \"factorymodel.pkl\"\n",
    "\n",
    "#LOCAL_SYSTEM_DATA_DIRECTORY = \"./TrainingData\"\n",
    "#LOCAL_SYSTEM_MODEL_FILE = \"{}/{}\".format(LOCAL_SYSTEM_DATA_DIRECTORY, AZURE_STORAGE_MODEL_BLOB_NAME)\n",
    "\n",
    "ML_MODEL_NAME = \"factorymodel.pkl\"\n",
    "LOCAL_SYSTEM_MODEL_FILE = \"./{}\".format(ML_MODEL_NAME)\n",
    "\n",
    "MODEL_TAGS = [\"factory\", \"predictivemaintenance\"]\n",
    "MODEL_DESCRIPTION = \"Predict factory floor failures.\"\n",
    "\n",
    "print(LOCAL_SYSTEM_MODEL_FILE)"
   ]
  },
  {
   "cell_type": "markdown",
   "metadata": {},
   "source": [
    "# Get workspace\n",
    "Load existing workspace from the config file info."
   ]
  },
  {
   "cell_type": "code",
   "execution_count": null,
   "metadata": {},
   "outputs": [],
   "source": [
    "ws = Workspace.from_config()\n",
    "print(ws.name, ws.resource_group, ws.location, ws.subscription_id, sep = '\\n')"
   ]
  },
  {
   "cell_type": "markdown",
   "metadata": {},
   "source": [
    "## Register the model ##\n",
    "\n",
    "Register an existing trained model, add descirption and tags."
   ]
  },
  {
   "cell_type": "code",
   "execution_count": null,
   "metadata": {},
   "outputs": [],
   "source": [
    "%%time\n",
    "\n",
    "print(\"Register file {} with name {}\".format(LOCAL_SYSTEM_MODEL_FILE,ML_MODEL_NAME))\n",
    "model = Model.register(model_path = LOCAL_SYSTEM_MODEL_FILE, # this points to a local file\n",
    "                       model_name = ML_MODEL_NAME, # this is the name the model is registered as\n",
    "                       tags = MODEL_TAGS,\n",
    "                       description = MODEL_DESCRIPTION,\n",
    "                       workspace = ws)\n",
    "\n",
    "print(model.name, model.description, model.version)"
   ]
  },
  {
   "cell_type": "markdown",
   "metadata": {},
   "source": [
    "# Create an image\n",
    "Create an image (docker container) using the registered model the script that will load and run the model."
   ]
  },
  {
   "cell_type": "code",
   "execution_count": null,
   "metadata": {},
   "outputs": [],
   "source": [
    "!more score.py"
   ]
  },
  {
   "cell_type": "code",
   "execution_count": null,
   "metadata": {},
   "outputs": [],
   "source": [
    "!more amlenv.yml"
   ]
  },
  {
   "cell_type": "markdown",
   "metadata": {},
   "source": [
    "This next step creates the actual container in the ACR for this project."
   ]
  },
  {
   "cell_type": "code",
   "execution_count": null,
   "metadata": {},
   "outputs": [],
   "source": [
    "image = Image.create(name = \"factoryimage22\",\n",
    "                     models = [model],\n",
    "                     runtime = \"python\",\n",
    "                     execution_script = \"score.py\",\n",
    "                     conda_file = \"amlenv.yml\",\n",
    "                     tags = MODEL_TAGS,\n",
    "                     description = MODEL_DESCRIPTION,\n",
    "                     workspace = ws)"
   ]
  },
  {
   "cell_type": "code",
   "execution_count": null,
   "metadata": {},
   "outputs": [],
   "source": [
    "%%time\n",
    "image.wait_for_creation(show_output = True)"
   ]
  },
  {
   "cell_type": "markdown",
   "metadata": {},
   "source": [
    "# Provision the AKS Cluster\n",
    "\n",
    "><b>NOTE</b> These steps take a LONG time and should not be run during this lab. The section is here to complete the >flow from creation to operationalizing a model.\n",
    "\n",
    "This is a one time setup. You can reuse this cluster for multiple deployments after it has been created. If you delete the cluster or the resource group that contains it, then you would have to recreate it."
   ]
  },
  {
   "cell_type": "markdown",
   "metadata": {},
   "source": [
    "## Connect existing cluster ##\n",
    "\n",
    "Use this cell if you already have your cluster up and running, otherwise skip it and go to the next cell to create one."
   ]
  },
  {
   "cell_type": "code",
   "execution_count": null,
   "metadata": {
    "scrolled": true
   },
   "outputs": [],
   "source": [
    "%%time\n",
    "create_name = 'aml-aks-8' \n",
    "resource_id ='/subscriptions/edf507a2-6235-46c5-b560-fd463ba2e771/resourcegroups/dangamlsdk/providers/Microsoft.ContainerService/managedClusters/aml-aks-8b2e247882f70b30'\n",
    "\n",
    "print(ws.name, create_name, resource_id)\n",
    "\n",
    "# Create the cluster\n",
    "aks_target = AksCompute.attach(workspace=ws, name=create_name, resource_id=resource_id)\n",
    "# Wait for the operation to complete\n",
    "aks_target.wait_for_provisioning(True)\n"
   ]
  },
  {
   "cell_type": "markdown",
   "metadata": {},
   "source": [
    "## Create Cluster ##\n",
    "\n",
    "Use this cell to create a new AKS cluster, otherwise if you already have one, use the cell above to connect to an existing cluster."
   ]
  },
  {
   "cell_type": "code",
   "execution_count": null,
   "metadata": {},
   "outputs": [],
   "source": [
    "%%time\n",
    "\n",
    "# Use the default configuration (can also provide parameters to customize)\n",
    "prov_config = AksCompute.provisioning_configuration()\n",
    "\n",
    "aks_name = 'aml-aks-d' \n",
    "# Create the cluster\n",
    "aks_target = ComputeTarget.create(workspace = ws, \n",
    "                                  name = aks_name, \n",
    "                                  provisioning_configuration = prov_config)"
   ]
  },
  {
   "cell_type": "code",
   "execution_count": null,
   "metadata": {},
   "outputs": [],
   "source": [
    "%%time\n",
    "aks_target.wait_for_provisioning(show_output = True)\n",
    "print(aks_target.provisioning_state)\n",
    "print(aks_target.provisioning_errors)"
   ]
  },
  {
   "cell_type": "markdown",
   "metadata": {},
   "source": [
    "## Deploy Web Service to AKS Cluster ##"
   ]
  },
  {
   "cell_type": "code",
   "execution_count": null,
   "metadata": {},
   "outputs": [],
   "source": [
    "#Set the web service configuration (using default here)\n",
    "aks_config = AksWebservice.deploy_configuration()"
   ]
  },
  {
   "cell_type": "code",
   "execution_count": null,
   "metadata": {},
   "outputs": [],
   "source": [
    "%%time\n",
    "aks_service_name ='aks-service-1'\n",
    "\n",
    "aks_service = Webservice.deploy_from_image(workspace = ws, \n",
    "                                           name = aks_service_name,\n",
    "                                           image = image,\n",
    "                                           deployment_config = aks_config,\n",
    "                                           deployment_target = aks_target)\n",
    "aks_service.wait_for_deployment(show_output = True)\n",
    "print(aks_service.state)\n",
    "print(aks_service.error)\n",
    "print(aks_service.get_logs() )"
   ]
  },
  {
   "cell_type": "markdown",
   "metadata": {},
   "source": [
    "## Test the service ##"
   ]
  },
  {
   "cell_type": "code",
   "execution_count": null,
   "metadata": {},
   "outputs": [],
   "source": [
    "%%time\n",
    "import json\n",
    "\n",
    "test_sample = json.dumps({'input_df':[{'id':1,'volt':241.0,'rotate':120.0,'temp':189.0,'time':3}]})\n",
    "test_sample = bytes(test_sample,encoding = 'utf8')\n",
    "\n",
    "prediction = aks_service.run(input_data = test_sample)\n",
    "print(prediction)"
   ]
  },
  {
   "cell_type": "markdown",
   "metadata": {},
   "source": [
    "## Clean up ##\n",
    "Delete the service, image and model."
   ]
  },
  {
   "cell_type": "code",
   "execution_count": null,
   "metadata": {},
   "outputs": [],
   "source": [
    "%%time\n",
    "aks_service.delete()\n",
    "image.delete()\n",
    "model.delete()"
   ]
  },
  {
   "cell_type": "code",
   "execution_count": null,
   "metadata": {},
   "outputs": [],
   "source": []
  }
 ],
 "metadata": {
  "kernelspec": {
   "display_name": "Python [conda env:amlenv]",
   "language": "python",
   "name": "conda-env-amlenv-py"
  },
  "language_info": {
   "codemirror_mode": {
    "name": "ipython",
    "version": 3
   },
   "file_extension": ".py",
   "mimetype": "text/x-python",
   "name": "python",
   "nbconvert_exporter": "python",
   "pygments_lexer": "ipython3",
   "version": "3.6.5"
  }
 },
 "nbformat": 4,
 "nbformat_minor": 2
}
