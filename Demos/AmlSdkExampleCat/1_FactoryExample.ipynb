{
 "cells": [
  {
   "cell_type": "markdown",
   "metadata": {},
   "source": [
    "## A Factory Example ##\n",
    "\n",
    "The following notebooks walk you through using the new AML SDK and some plain old Python to:\n",
    "    \n",
    "    1. Retrieve the training data\n",
    "    2. Break the training data down into two sets - training and test data sets.\n",
    "    3. Train a model\n",
    "    4. Test your model\n",
    "    5. Create a Docker container that hosts your model in a Flask app.\n",
    "    6. Deploy the model to a Kubernetes cluster (optional based on time)\n",
    "    \n",
    "These steps can take a significant amount of time, so we will focus on creating the model and putting it in a container but will likely bypass the creation of the cluster and publishing the service to an AKS cluster due to time constraints.   \n",
    " "
   ]
  },
  {
   "cell_type": "markdown",
   "metadata": {},
   "source": [
    "## Determining Widget State ##\n",
    "\n",
    "<img src=\"images/factory.png\" />\n",
    "\n",
    "We have a factory floor of widgets that perform an important task. When they fail it costs hundreds of thousands of dollars. We want to build a model that will determing if widgets are at the brink, or already in, a failure state before we start the next production run. \n",
    "\n",
    "This is an example of a classification problem where we want to determing if the device is OK or in a failure state. "
   ]
  },
  {
   "cell_type": "markdown",
   "metadata": {},
   "source": [
    "## The Data ##\n",
    "\n",
    "Training data for this example is provided for you in an existing Azure Storage Container which is identified in the following notebooks. This training data is an example of SUPERVISED learning as there is a label associated with each sample. \n",
    "\n",
    "The data structure is as follows:\n",
    "\n",
    "|  |   |    |\n",
    "|------|---------|---------|\n",
    "|<b>time</b>| Feature | The time the sample was obtained. |\n",
    "|<b>id</b>| Feature | The device identifier|\n",
    "|<b>temp</b>| Feature | The operating temperature of the widget. |\n",
    "|<b>volt</b>| Feature | The voltage needed to run the widget.|\n",
    "|<b>rotate</b>| Feature | The rotation speed of the widget. |\n",
    "|<b>state</b>| Label | Identifies if the device is OK (1) or in Failure (0)|\n",
    "\n",
    "Thinking back to the data discussion, it would seem like time and id may not be relevant. In this case we include the data so when results are stored in a database (or other medium) the device can be found by it's identifier when writing up repair tickes."
   ]
  },
  {
   "cell_type": "markdown",
   "metadata": {},
   "source": [
    "## Let the fun begin!! ##\n",
    "\n",
    "From here follow the notebooks in ascending order. To do so, this assumes that you have already installed either locally or on a virtual machine, the AML SDK and are running in the AML virtual environment. \n",
    "\n",
    "Instuctions on setting that up can be found here:\n",
    "\n",
    "https://github.com/Azure/ViennaDocs/tree/master/PrivatePreview\n",
    "\n",
    "\n",
    "<b>2_Configuration.ipynb</b>\n",
    "\n",
    "This notebook ensures your subscription is ready to go, sets up a resource group and creates a local workspace for you. You MUST run, on the command line in the virtual environment, <b>jupyter notebook</b> to access everything you will need for this exercise. \n",
    "\n",
    "<b>3_CreateModel.ipynb</b>\n",
    "\n",
    "This notebook retrieves the training data from a predetermined location in Azure and separates it inot training and test data sets. \n",
    "\n",
    "From there, it trains a model, tests it, reports statistics on it (and they aren't great, but this is just an exercise) and finally writes the model out to disk. \n",
    "\n",
    "<b>4_DeployModel.ipynb</b>\n",
    "\n",
    "<b>NOTE</b> Deploying a cluster and publishing a service can take upwards of 30 minutes. Further, the subscription you are working with for this lab may not be suitable for each of you to create an AKS cluster due to core limitations. Work on the cells up to but not including <b>Provision the AKS cluster </b>\n",
    "\n",
    "\n",
    "This notebook registers the model with the AML service, builds a docker container which is stored in an Azure Container Registry, deploys an AKS cluster, and finally tests the service in place. \n",
    "\n",
    "<b>5_MonitorCluster.ipynb</b>\n",
    "\n",
    "This notebook is genrally useful for any AKS cluster in that it shows you how to obtain the AKS configuration for kubectl (a usefule Kubernetes command line tool) and launch a cluster dashboard. "
   ]
  },
  {
   "cell_type": "code",
   "execution_count": null,
   "metadata": {},
   "outputs": [],
   "source": []
  }
 ],
 "metadata": {
  "kernelspec": {
   "display_name": "Python [conda env:amlenv]",
   "language": "python",
   "name": "conda-env-amlenv-py"
  },
  "language_info": {
   "codemirror_mode": {
    "name": "ipython",
    "version": 3
   },
   "file_extension": ".py",
   "mimetype": "text/x-python",
   "name": "python",
   "nbconvert_exporter": "python",
   "pygments_lexer": "ipython3",
   "version": "3.6.5"
  }
 },
 "nbformat": 4,
 "nbformat_minor": 2
}
