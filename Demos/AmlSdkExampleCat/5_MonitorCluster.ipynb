{
 "cells": [
  {
   "cell_type": "markdown",
   "metadata": {},
   "source": [
    "## Monitor the AKS Cluster ##\n",
    "\n",
    "One of the more reliable tools for managing your cluster is kubectl. To use, download it from the kubernetes site:\n",
    "\n",
    "https://kubernetes.io/docs/tasks/tools/install-kubectl/\n",
    "\n",
    "Install it on your hard drive. Configuration information for kubectl will be found at\n",
    "\n",
    "C:\\Users\\[youruser]\\.kube  \n"
   ]
  },
  {
   "cell_type": "markdown",
   "metadata": {},
   "source": [
    "## Configure Kubectl for your cluster##\n",
    "\n",
    "Enter the virtual environment you had in the past and ensure you have run az login then run the following command. It will save your cluster settings to the ...\\.kube\\config file."
   ]
  },
  {
   "cell_type": "code",
   "execution_count": 4,
   "metadata": {},
   "outputs": [
    {
     "name": "stdout",
     "output_type": "stream",
     "text": [
      "Merged \"aml-aks-d1c78178547f1683\" as current context in C:\\Users\\anddang\\.kube\\config\n"
     ]
    }
   ],
   "source": [
    "# Resource group is the same from the 1_Configuration.ipynb notebook\n",
    "RESOURCE_GROUP = 'dangcattest'\n",
    "# This is the full name of the cluster\n",
    "AKS_NAME = 'aml-aks-d1c78178547f1683'\n",
    "\n",
    "!az aks get-credentials --resource-group={RESOURCE_GROUP} --name={AKS_NAME} "
   ]
  },
  {
   "cell_type": "markdown",
   "metadata": {},
   "source": [
    "## Run the Kubernetes Dashboard ##\n",
    "\n",
    "Navigate your command prompt to the directory you placed kubectl.exe and enter\n",
    "\n",
    "> kubectl proxy\n",
    "\n",
    "This will start the proxy to your dashboard, once it's started open a browser and navigate to \n",
    "\n",
    "http://127.0.0.1:8001/api/v1/namespaces/kube-system/services/kubernetes-dashboard/proxy/#!/node?namespace=default"
   ]
  },
  {
   "cell_type": "markdown",
   "metadata": {},
   "source": [
    "## Scaling an AKS Cluster ##\n",
    "\n",
    "The following blog discusses scaling your cluster and provided simple formulae to determing cluster size, pod density, etc.\n",
    "\n",
    "https://blogs.technet.microsoft.com/machinelearning/2018/03/20/scaling-azure-container-service-cluster/\n",
    "    "
   ]
  },
  {
   "cell_type": "markdown",
   "metadata": {},
   "source": [
    "## Load testing AKS Service for performance ##\n",
    "\n",
    "The following blog discusses load testing your cluster to determine performance.\n",
    "\n",
    "https://blogs.technet.microsoft.com/machinelearning/2018/05/02/kubernetes-load-testing/\n",
    "    \n",
    "Load Testing Tool\n",
    "\n",
    "The following repo contains the tool which we use to load test AKS clusters to truly determine sustained throughput.\n",
    "\n",
    "https://github.com/grecoe/CloudAI/tree/master/Utilities/DistributedEndpointTesting"
   ]
  },
  {
   "cell_type": "code",
   "execution_count": null,
   "metadata": {},
   "outputs": [],
   "source": []
  }
 ],
 "metadata": {
  "kernelspec": {
   "display_name": "Python [conda env:amlenv]",
   "language": "python",
   "name": "conda-env-amlenv-py"
  },
  "language_info": {
   "codemirror_mode": {
    "name": "ipython",
    "version": 3
   },
   "file_extension": ".py",
   "mimetype": "text/x-python",
   "name": "python",
   "nbconvert_exporter": "python",
   "pygments_lexer": "ipython3",
   "version": "3.6.5"
  }
 },
 "nbformat": 4,
 "nbformat_minor": 2
}
